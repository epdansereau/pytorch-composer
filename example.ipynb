{
 "cells": [
  {
   "cell_type": "markdown",
   "metadata": {},
   "source": [
    "Generating code for a model:"
   ]
  },
  {
   "cell_type": "code",
   "execution_count": 1,
   "metadata": {},
   "outputs": [
    {
     "name": "stdout",
     "output_type": "stream",
     "text": [
      "class Net(nn.Module):\n",
      "\tdef __init__(self):\n",
      "\t\tsuper(Net, self).__init__()\n",
      "\t\tself.conv2d1 = nn.Conv2d(3, 6, kernel_size = 3, padding = 0)\n",
      "\t\tself.maxpool2d1 = nn.MaxPool2d(kernel_size = 2, padding = 0)\n",
      "\t\tself.linear1 = nn.Linear(15, 52)\n",
      "\t\tself.linear2 = nn.Linear(26, 43)\n",
      "\t\tself.conv2d2 = nn.Conv2d(6, 65, kernel_size = 3, padding = 0)\n",
      "\t\tself.maxpool2d2 = nn.MaxPool2d(kernel_size = 2, padding = (1, 0))\n",
      "\t\tself.conv2d3 = nn.Conv2d(65, 47, kernel_size = 3, padding = (1, 0))\n",
      "\t\tself.linear3 = nn.Linear(329, 52)\n",
      "\t\tself.linear4 = nn.Linear(52, 38)\n",
      "\tdef forward(self, x):\n",
      "\t\t# Input dimensions : [4, 3, 32, 32]\n",
      "\t\t# Shape goes from [4, 3, 32, 32] to [4, 6, 30, 30]\n",
      "\t\tx = self.conv2d1(x)\n",
      "\t\t# Shape goes from [4, 6, 30, 30] to [4, 6, 15, 15]\n",
      "\t\tx = self.maxpool2d1(x)\n",
      "\t\t# Shape goes from [4, 6, 15, 15] to [4, 6, 15, 52]\n",
      "\t\tx = self.linear1(x)\n",
      "\t\tx = F.relu(x)\n",
      "\t\t# Shape goes from [4, 6, 15, 52] to [4, 6, 7, 26]\n",
      "\t\tx = self.maxpool2d0(x)\n",
      "\t\t# Shape goes from [4, 6, 7, 26] to [4, 6, 7, 43]\n",
      "\t\tx = self.linear2(x)\n",
      "\t\t# Shape goes from [4, 6, 7, 43] to [4, 6, 3, 21]\n",
      "\t\tx = self.maxpool2d0(x)\n",
      "\t\t# Shape goes from [4, 6, 3, 21] to [4, 65, 1, 19]\n",
      "\t\tx = self.conv2d2(x)\n",
      "\t\t# Shape goes from [4, 65, 1, 19] to [4, 65, 1, 9]\n",
      "\t\tx = self.maxpool2d2(x)\n",
      "\t\t# Shape goes from [4, 65, 1, 9] to [4, 47, 1, 7]\n",
      "\t\tx = self.conv2d3(x)\n",
      "\t\t# Reshaping the data from [4, 47, 1, 7] to [4, 329]:\n",
      "\t\tx = x.view(-1,329)\n",
      "\t\t# Shape goes from [4, 329] to [4, 52]\n",
      "\t\tx = self.linear3(x)\n",
      "\t\tx = F.relu(x)\n",
      "\t\t# Shape goes from [4, 52] to [4, 38]\n",
      "\t\tx = self.linear4(x)\n",
      "\t\treturn x\n",
      "\n"
     ]
    }
   ],
   "source": [
    "import pytorch_composer\n",
    "\n",
    "input_dim = [4,3,32,32]\n",
    "# A random sequence of neural network layers. Any positive integer shoud be a valid dimension arguement:\n",
    "sequence = [\n",
    "    [\"conv2d\", 6],\n",
    "    [\"maxpool2d\", 2],\n",
    "    [\"linear\", 52],\n",
    "    [\"relu\"],\n",
    "    [\"maxpool2d\", 2],\n",
    "    [\"linear\",43],\n",
    "    [\"maxpool2d\", 2],\n",
    "    [\"conv2d\", 65],\n",
    "    [\"maxpool2d\", 2],\n",
    "    [\"conv2d\", 47],\n",
    "    [\"flat\"],\n",
    "    [\"linear\", 52],\n",
    "    [\"relu\"],\n",
    "    [\"linear\",38],\n",
    "]\n",
    "\n",
    "model_code = pytorch_composer.write_model(input_dim, sequence)\n",
    "model_code.print_formated()"
   ]
  },
  {
   "cell_type": "markdown",
   "metadata": {},
   "source": [
    "Using the generated code:"
   ]
  },
  {
   "cell_type": "code",
   "execution_count": 2,
   "metadata": {},
   "outputs": [
    {
     "name": "stdout",
     "output_type": "stream",
     "text": [
      "Files already downloaded and verified\n",
      "Files already downloaded and verified\n"
     ]
    }
   ],
   "source": [
    "import torch\n",
    "\n",
    "import torch.nn as nn\n",
    "import torch.nn.functional as F\n",
    "\n",
    "import torch.optim as optim\n",
    "\n",
    "import torchvision\n",
    "import torchvision.transforms as transforms\n",
    "\n",
    "\n",
    "# Load and normalize the dataset\n",
    "transform = transforms.Compose(\n",
    "    [transforms.ToTensor(),\n",
    "     transforms.Normalize((0.5, 0.5, 0.5), (0.5, 0.5, 0.5))])\n",
    "\n",
    "trainset = torchvision.datasets.CIFAR10(root='./data', train=True,\n",
    "                                        download=True, transform=transform)\n",
    "trainloader = torch.utils.data.DataLoader(trainset, batch_size=4,\n",
    "                                          shuffle=True, num_workers=2)\n",
    "\n",
    "testset = torchvision.datasets.CIFAR10(root='./data', train=False,\n",
    "                                       download=True, transform=transform)\n",
    "testloader = torch.utils.data.DataLoader(testset, batch_size=4,\n",
    "                                         shuffle=False, num_workers=2)\n",
    "\n",
    "classes = ('plane', 'car', 'bird', 'cat',\n",
    "           'deer', 'dog', 'frog', 'horse', 'ship', 'truck')"
   ]
  },
  {
   "cell_type": "code",
   "execution_count": 3,
   "metadata": {},
   "outputs": [],
   "source": [
    "# Now we run the generated code:\n",
    "\n",
    "class Net(nn.Module):\n",
    "    def __init__(self):\n",
    "        super(Net, self).__init__()\n",
    "        self.conv2d1 = nn.Conv2d(3, 6, kernel_size = 3, padding = 0)\n",
    "        self.maxpool2d1 = nn.MaxPool2d(kernel_size = 2, padding = 0)\n",
    "        self.linear1 = nn.Linear(1350, 52)\n",
    "        self.linear2 = nn.Linear(52, 43)\n",
    "        self.maxpool2d2 = nn.MaxPool2d(kernel_size = 2, padding = (0, 1))\n",
    "        self.conv2d2 = nn.Conv2d(1, 65, kernel_size = 3, padding = (0, 1))\n",
    "        self.conv2d3 = nn.Conv2d(65, 47, kernel_size = 3, padding = (0, 1))\n",
    "        self.linear3 = nn.Linear(329, 52)\n",
    "        self.linear4 = nn.Linear(52, 38)\n",
    "    def forward(self, x):\n",
    "        # Input dimensions : [4, 3, 32, 32]\n",
    "        # Shape goes from [4, 3, 32, 32] to [4, 6, 30, 30]\n",
    "        x = self.conv2d1(x)\n",
    "        # Shape goes from [4, 6, 30, 30] to [4, 6, 15, 15]\n",
    "        x = self.maxpool2d1(x)\n",
    "        # Reshaping the data from [4, 6, 15, 15] to [4, 1350]:\n",
    "        x = x.view(-1,1350)\n",
    "        # Shape goes from [4, 1350] to [4, 52]\n",
    "        x = self.linear1(x)\n",
    "        x = F.relu(x)\n",
    "        # Shape goes from [4, 52] to [4, 43]\n",
    "        x = self.linear2(x)\n",
    "        # Reshaping the data from [4, 43] to [4, 1, 43, 1]:\n",
    "        x = x.view(4, 1, 43, 1)\n",
    "        # Shape goes from [4, 1, 43, 1] to [4, 1, 21, 1]\n",
    "        x = self.maxpool2d2(x)\n",
    "        # Shape goes from [4, 1, 21, 1] to [4, 65, 19, 1]\n",
    "        x = self.conv2d2(x)\n",
    "        # Shape goes from [4, 65, 19, 1] to [4, 65, 9, 1]\n",
    "        x = self.maxpool2d1(x)\n",
    "        # Shape goes from [4, 65, 9, 1] to [4, 47, 7, 1]\n",
    "        x = self.conv2d3(x)\n",
    "        # Reshaping the data from [4, 47, 7, 1] to [4, 329]:\n",
    "        x = x.view(-1,329)\n",
    "        # Shape goes from [4, 329] to [4, 52]\n",
    "        x = self.linear3(x)\n",
    "        x = F.relu(x)\n",
    "        # Shape goes from [4, 52] to [4, 38]\n",
    "        x = self.linear4(x)\n",
    "        return x"
   ]
  },
  {
   "cell_type": "code",
   "execution_count": 4,
   "metadata": {},
   "outputs": [
    {
     "name": "stdout",
     "output_type": "stream",
     "text": [
      "[1,  2000] loss: 2.498\n",
      "[1,  4000] loss: 2.260\n",
      "[1,  6000] loss: 1.928\n",
      "[1,  8000] loss: 1.771\n",
      "[1, 10000] loss: 1.655\n",
      "[1, 12000] loss: 1.558\n",
      "[2,  2000] loss: 1.449\n",
      "[2,  4000] loss: 1.429\n",
      "[2,  6000] loss: 1.418\n",
      "[2,  8000] loss: 1.376\n",
      "[2, 10000] loss: 1.341\n",
      "[2, 12000] loss: 1.316\n",
      "Finished Training\n"
     ]
    }
   ],
   "source": [
    "# Define a Loss function and optimizer\n",
    "net = Net()\n",
    "criterion = nn.CrossEntropyLoss()\n",
    "optimizer = optim.SGD(net.parameters(), lr=0.001, momentum=0.9)\n",
    "\n",
    "\n",
    "# Training\n",
    "for epoch in range(2):  # loop over the dataset multiple times\n",
    "\n",
    "    running_loss = 0.0\n",
    "    for i, data in enumerate(trainloader, 0):\n",
    "        # get the inputs; data is a list of [inputs, labels]\n",
    "        inputs, labels = data\n",
    "\n",
    "        # zero the parameter gradients\n",
    "        optimizer.zero_grad()\n",
    "\n",
    "        # forward + backward + optimize\n",
    "        outputs = net(inputs)\n",
    "        loss = criterion(outputs, labels)\n",
    "        loss.backward()\n",
    "        optimizer.step()\n",
    "\n",
    "        # print statistics\n",
    "        running_loss += loss.item()\n",
    "        if i % 2000 == 1999:    # print every 2000 mini-batches\n",
    "            print('[%d, %5d] loss: %.3f' %\n",
    "                  (epoch + 1, i + 1, running_loss / 2000))\n",
    "            running_loss = 0.0\n",
    "        torch.save(net.state_dict(), 'model.pt')\n",
    "\n",
    "print('Finished Training')"
   ]
  }
 ],
 "metadata": {
  "kernelspec": {
   "display_name": "Python 3",
   "language": "python",
   "name": "python3"
  },
  "language_info": {
   "codemirror_mode": {
    "name": "ipython",
    "version": 3
   },
   "file_extension": ".py",
   "mimetype": "text/x-python",
   "name": "python",
   "nbconvert_exporter": "python",
   "pygments_lexer": "ipython3",
   "version": "3.7.1"
  }
 },
 "nbformat": 4,
 "nbformat_minor": 2
}
