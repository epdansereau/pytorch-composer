{
 "cells": [
  {
   "cell_type": "markdown",
   "metadata": {},
   "source": [
    "Generating code for a model:"
   ]
  },
  {
   "cell_type": "code",
   "execution_count": 1,
   "metadata": {
    "scrolled": true
   },
   "outputs": [
    {
     "data": {
      "text/plain": [
       "import torch.nn.functional as F\n",
       "import torchvision\n",
       "import torch.optim as optim\n",
       "import torchvision.transforms as transforms\n",
       "import torch\n",
       "import torch.nn as nn\n",
       "\n",
       "\n",
       "# Load and normalize the dataset\n",
       "transform = transforms.Compose(\n",
       "    [transforms.ToTensor(),\n",
       "     transforms.Normalize((0.5, 0.5, 0.5), (0.5, 0.5, 0.5))])\n",
       "\n",
       "trainset = torchvision.datasets.CIFAR10(root='./data', train=True,\n",
       "                                        download=True, transform=transform)\n",
       "trainloader = torch.utils.data.DataLoader(trainset, batch_size=4,\n",
       "                                          shuffle=True, num_workers=2)\n",
       "\n",
       "testset = torchvision.datasets.CIFAR10(root='./data', train=False,\n",
       "                                       download=True, transform=transform)\n",
       "testloader = torch.utils.data.DataLoader(testset, batch_size=4,\n",
       "                                         shuffle=False, num_workers=2)\n",
       "\n",
       "classes = ('plane', 'car', 'bird', 'cat',\n",
       "           'deer', 'dog', 'frog', 'horse', 'ship', 'truck')\n",
       "\n",
       "class Net(nn.Module):\n",
       "    def __init__(self):\n",
       "        super(Net, self).__init__()\n",
       "        self.conv2d1 = nn.Conv2d(3, 32, 3, )\n",
       "        self.maxpool2d1 = nn.MaxPool2d(2, stride=2)\n",
       "        self.linear1 = nn.Linear(15, 16, )\n",
       "        self.linear2 = nn.Linear(8, 43, )\n",
       "        self.linear3 = nn.Linear(2016, 38, )\n",
       "\n",
       "    def forward(self, x):\n",
       "        # Input dimensions : (4, 3, 32, 32)\n",
       "        # Convolution layer (2d): (4, 3, 32, 32) -> (4, 32, 30, 30)\n",
       "        x = self.conv2d1(x)\n",
       "        # Pooling layer (2d max): (4, 32, 30, 30) -> (4, 32, 15, 15)\n",
       "        x = self.maxpool2d1(x)\n",
       "        # Linear layer: (4, 32, 15, 15) -> (4, 32, 15, 16)\n",
       "        x = self.linear1(x)\n",
       "        x = F.relu(x)\n",
       "        # Pooling layer (2d max): (4, 32, 15, 16) -> (4, 32, 7, 8)\n",
       "        x = self.maxpool2d1(x)\n",
       "        # Linear layer: (4, 32, 7, 8) -> (4, 32, 7, 43)\n",
       "        x = self.linear2(x)\n",
       "        # Pooling layer (2d max): (4, 32, 7, 43) -> (4, 32, 3, 21)\n",
       "        x = self.maxpool2d1(x)\n",
       "        x = F.relu(x)\n",
       "        x = x.view(4, 2016)\n",
       "        # Linear layer: (4, 2016) -> (4, 38)\n",
       "        x = self.linear3(x)\n",
       "        # Output dimensions : (4, 38)\n",
       "        return x\n",
       "\n",
       "# Define a Loss function and optimizer\n",
       "net = Net()\n",
       "criterion = nn.CrossEntropyLoss()\n",
       "optimizer = optim.SGD(net.parameters(), lr=0.001, momentum=0.9)\n",
       "\n",
       "\n",
       "# Training\n",
       "for epoch in range(2):  # loop over the dataset multiple times\n",
       "     = net.initHidden()\n",
       "\n",
       "    running_loss = 0.0\n",
       "    for i, data in enumerate(trainloader, 0):\n",
       "        # get the inputs; data is a list of [inputs, labels]\n",
       "        inputs, labels = data\n",
       "\n",
       "        # zero the parameter gradients\n",
       "        optimizer.zero_grad()\n",
       "\n",
       "        # forward + backward + optimize\n",
       "        outputs,  = net(inputs, )\n",
       "        loss = criterion(outputs, labels)\n",
       "        loss.backward()\n",
       "        optimizer.step()\n",
       "\n",
       "        # print statistics\n",
       "        running_loss += loss.item()\n",
       "        if i % 2000 == 1999:    # print every 2000 mini-batches\n",
       "            print('[%d, %5d] loss: %.3f' %\n",
       "                  (epoch + 1, i + 1, running_loss / 2000))\n",
       "            running_loss = 0.0\n",
       "        \n",
       "        torch.save(net.state_dict(), 'model.pt')\n",
       "\n",
       "print('Finished Training')"
      ]
     },
     "execution_count": 1,
     "metadata": {},
     "output_type": "execute_result"
    }
   ],
   "source": [
    "import pytorch_composer\n",
    "import pytorch_composer.datasets\n",
    "\n",
    "\n",
    "# A random sequence of neural network layers. Any positive integer shoud be a valid dimension arguement:\n",
    "sequence = [\n",
    "    [\"Conv2d\", 6],\n",
    "    [\"MaxPool2d\", 2],\n",
    "    [\"Linear\", 16],\n",
    "    [\"Relu\"],\n",
    "    [\"MaxPool2d\", 2],\n",
    "    [\"Linear\",43],\n",
    "    [\"RNN\",12],\n",
    "    [\"MaxPool2d\", 2],\n",
    "    [\"Relu\"],\n",
    "    [\"Flat\"],\n",
    "    [\"Linear\",38],\n",
    "]\n",
    "dataset = pytorch_composer.datasets.CIFAR10()\n",
    "model = pytorch_composer.Model(sequence, dataset)\n",
    "loop = pytorch_composer.Classifier(model)\n",
    "\n",
    "code = pytorch_composer.Code([dataset,model,loop])\n",
    "code"
   ]
  },
  {
   "cell_type": "markdown",
   "metadata": {},
   "source": [
    "Using the generated code:"
   ]
  },
  {
   "cell_type": "code",
   "execution_count": 2,
   "metadata": {},
   "outputs": [
    {
     "name": "stdout",
     "output_type": "stream",
     "text": [
      "Files already downloaded and verified\n",
      "Files already downloaded and verified\n",
      "[1,  2000] loss: 2.408\n"
     ]
    },
    {
     "ename": "KeyboardInterrupt",
     "evalue": "",
     "output_type": "error",
     "traceback": [
      "\u001b[0;31m---------------------------------------------------------------------------\u001b[0m",
      "\u001b[0;31mKeyboardInterrupt\u001b[0m                         Traceback (most recent call last)",
      "\u001b[0;32m<ipython-input-2-b21f72322ab2>\u001b[0m in \u001b[0;36m<module>\u001b[0;34m\u001b[0m\n\u001b[0;32m----> 1\u001b[0;31m \u001b[0mcode\u001b[0m\u001b[0;34m.\u001b[0m\u001b[0mexecute\u001b[0m\u001b[0;34m(\u001b[0m\u001b[0;34m)\u001b[0m\u001b[0;34m\u001b[0m\u001b[0;34m\u001b[0m\u001b[0m\n\u001b[0m",
      "\u001b[0;32m~/pytorch-composer/pytorch_composer/__init__.py\u001b[0m in \u001b[0;36mexecute\u001b[0;34m(self)\u001b[0m\n\u001b[1;32m    240\u001b[0m \u001b[0;34m\u001b[0m\u001b[0m\n\u001b[1;32m    241\u001b[0m     \u001b[0;32mdef\u001b[0m \u001b[0mexecute\u001b[0m\u001b[0;34m(\u001b[0m\u001b[0mself\u001b[0m\u001b[0;34m)\u001b[0m\u001b[0;34m:\u001b[0m\u001b[0;34m\u001b[0m\u001b[0;34m\u001b[0m\u001b[0m\n\u001b[0;32m--> 242\u001b[0;31m         \u001b[0mexec\u001b[0m\u001b[0;34m(\u001b[0m\u001b[0mstr\u001b[0m\u001b[0;34m(\u001b[0m\u001b[0mself\u001b[0m\u001b[0;34m)\u001b[0m\u001b[0;34m,\u001b[0m \u001b[0mglobals\u001b[0m\u001b[0;34m(\u001b[0m\u001b[0;34m)\u001b[0m\u001b[0;34m,\u001b[0m \u001b[0mglobals\u001b[0m\u001b[0;34m(\u001b[0m\u001b[0;34m)\u001b[0m\u001b[0;34m)\u001b[0m\u001b[0;34m\u001b[0m\u001b[0;34m\u001b[0m\u001b[0m\n\u001b[0m\u001b[1;32m    243\u001b[0m \u001b[0;34m\u001b[0m\u001b[0m\n\u001b[1;32m    244\u001b[0m \u001b[0;34m\u001b[0m\u001b[0m\n",
      "\u001b[0;32m~/pytorch-composer/pytorch_composer/__init__.py\u001b[0m in \u001b[0;36m<module>\u001b[0;34m\u001b[0m\n",
      "\u001b[0;32m/usr/local/lib/python3.7/site-packages/torch/tensor.py\u001b[0m in \u001b[0;36mbackward\u001b[0;34m(self, gradient, retain_graph, create_graph)\u001b[0m\n\u001b[1;32m    196\u001b[0m                 \u001b[0mproducts\u001b[0m\u001b[0;34m.\u001b[0m \u001b[0mDefaults\u001b[0m \u001b[0mto\u001b[0m\u001b[0;31m \u001b[0m\u001b[0;31m`\u001b[0m\u001b[0;31m`\u001b[0m\u001b[0;32mFalse\u001b[0m\u001b[0;31m`\u001b[0m\u001b[0;31m`\u001b[0m\u001b[0;34m.\u001b[0m\u001b[0;34m\u001b[0m\u001b[0;34m\u001b[0m\u001b[0m\n\u001b[1;32m    197\u001b[0m         \"\"\"\n\u001b[0;32m--> 198\u001b[0;31m         \u001b[0mtorch\u001b[0m\u001b[0;34m.\u001b[0m\u001b[0mautograd\u001b[0m\u001b[0;34m.\u001b[0m\u001b[0mbackward\u001b[0m\u001b[0;34m(\u001b[0m\u001b[0mself\u001b[0m\u001b[0;34m,\u001b[0m \u001b[0mgradient\u001b[0m\u001b[0;34m,\u001b[0m \u001b[0mretain_graph\u001b[0m\u001b[0;34m,\u001b[0m \u001b[0mcreate_graph\u001b[0m\u001b[0;34m)\u001b[0m\u001b[0;34m\u001b[0m\u001b[0;34m\u001b[0m\u001b[0m\n\u001b[0m\u001b[1;32m    199\u001b[0m \u001b[0;34m\u001b[0m\u001b[0m\n\u001b[1;32m    200\u001b[0m     \u001b[0;32mdef\u001b[0m \u001b[0mregister_hook\u001b[0m\u001b[0;34m(\u001b[0m\u001b[0mself\u001b[0m\u001b[0;34m,\u001b[0m \u001b[0mhook\u001b[0m\u001b[0;34m)\u001b[0m\u001b[0;34m:\u001b[0m\u001b[0;34m\u001b[0m\u001b[0;34m\u001b[0m\u001b[0m\n",
      "\u001b[0;32m/usr/local/lib/python3.7/site-packages/torch/autograd/__init__.py\u001b[0m in \u001b[0;36mbackward\u001b[0;34m(tensors, grad_tensors, retain_graph, create_graph, grad_variables)\u001b[0m\n\u001b[1;32m     98\u001b[0m     Variable._execution_engine.run_backward(\n\u001b[1;32m     99\u001b[0m         \u001b[0mtensors\u001b[0m\u001b[0;34m,\u001b[0m \u001b[0mgrad_tensors\u001b[0m\u001b[0;34m,\u001b[0m \u001b[0mretain_graph\u001b[0m\u001b[0;34m,\u001b[0m \u001b[0mcreate_graph\u001b[0m\u001b[0;34m,\u001b[0m\u001b[0;34m\u001b[0m\u001b[0;34m\u001b[0m\u001b[0m\n\u001b[0;32m--> 100\u001b[0;31m         allow_unreachable=True)  # allow_unreachable flag\n\u001b[0m\u001b[1;32m    101\u001b[0m \u001b[0;34m\u001b[0m\u001b[0m\n\u001b[1;32m    102\u001b[0m \u001b[0;34m\u001b[0m\u001b[0m\n",
      "\u001b[0;31mKeyboardInterrupt\u001b[0m: "
     ]
    }
   ],
   "source": [
    "code.execute()"
   ]
  },
  {
   "cell_type": "code",
   "execution_count": null,
   "metadata": {},
   "outputs": [],
   "source": []
  }
 ],
 "metadata": {
  "kernelspec": {
   "display_name": "Python 3",
   "language": "python",
   "name": "python3"
  },
  "language_info": {
   "codemirror_mode": {
    "name": "ipython",
    "version": 3
   },
   "file_extension": ".py",
   "mimetype": "text/x-python",
   "name": "python",
   "nbconvert_exporter": "python",
   "pygments_lexer": "ipython3",
   "version": "3.7.1"
  }
 },
 "nbformat": 4,
 "nbformat_minor": 2
}
